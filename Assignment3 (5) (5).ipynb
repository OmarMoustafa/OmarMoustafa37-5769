{
 "cells": [
  {
   "cell_type": "code",
   "execution_count": 64,
   "metadata": {},
   "outputs": [],
   "source": [
    "import os\n",
    "import numpy as np\n",
    "import pandas as pd\n",
    "import random\n",
    "import matplotlib.pyplot as plt\n",
    "from scipy import optimize"
   ]
  },
  {
   "cell_type": "code",
   "execution_count": 65,
   "metadata": {},
   "outputs": [
    {
     "data": {
      "text/html": [
       "<div>\n",
       "<style scoped>\n",
       "    .dataframe tbody tr th:only-of-type {\n",
       "        vertical-align: middle;\n",
       "    }\n",
       "\n",
       "    .dataframe tbody tr th {\n",
       "        vertical-align: top;\n",
       "    }\n",
       "\n",
       "    .dataframe thead th {\n",
       "        text-align: right;\n",
       "    }\n",
       "</style>\n",
       "<table border=\"1\" class=\"dataframe\">\n",
       "  <thead>\n",
       "    <tr style=\"text-align: right;\">\n",
       "      <th></th>\n",
       "      <th>price</th>\n",
       "      <th>bedrooms</th>\n",
       "      <th>bathrooms</th>\n",
       "      <th>sqft_living</th>\n",
       "      <th>sqft_lot</th>\n",
       "      <th>floors</th>\n",
       "      <th>waterfront</th>\n",
       "      <th>view</th>\n",
       "      <th>condition</th>\n",
       "      <th>grade</th>\n",
       "      <th>sqft_above</th>\n",
       "      <th>sqft_basement</th>\n",
       "      <th>yr_built</th>\n",
       "    </tr>\n",
       "  </thead>\n",
       "  <tbody>\n",
       "    <tr>\n",
       "      <th>0</th>\n",
       "      <td>221900.0</td>\n",
       "      <td>3</td>\n",
       "      <td>1.00</td>\n",
       "      <td>1180</td>\n",
       "      <td>5650</td>\n",
       "      <td>1.0</td>\n",
       "      <td>0</td>\n",
       "      <td>0</td>\n",
       "      <td>3</td>\n",
       "      <td>7</td>\n",
       "      <td>1180</td>\n",
       "      <td>0</td>\n",
       "      <td>1955</td>\n",
       "    </tr>\n",
       "    <tr>\n",
       "      <th>1</th>\n",
       "      <td>538000.0</td>\n",
       "      <td>3</td>\n",
       "      <td>2.25</td>\n",
       "      <td>2570</td>\n",
       "      <td>7242</td>\n",
       "      <td>2.0</td>\n",
       "      <td>0</td>\n",
       "      <td>0</td>\n",
       "      <td>3</td>\n",
       "      <td>7</td>\n",
       "      <td>2170</td>\n",
       "      <td>400</td>\n",
       "      <td>1951</td>\n",
       "    </tr>\n",
       "    <tr>\n",
       "      <th>2</th>\n",
       "      <td>180000.0</td>\n",
       "      <td>2</td>\n",
       "      <td>1.00</td>\n",
       "      <td>770</td>\n",
       "      <td>10000</td>\n",
       "      <td>1.0</td>\n",
       "      <td>0</td>\n",
       "      <td>0</td>\n",
       "      <td>3</td>\n",
       "      <td>6</td>\n",
       "      <td>770</td>\n",
       "      <td>0</td>\n",
       "      <td>1933</td>\n",
       "    </tr>\n",
       "    <tr>\n",
       "      <th>3</th>\n",
       "      <td>604000.0</td>\n",
       "      <td>4</td>\n",
       "      <td>3.00</td>\n",
       "      <td>1960</td>\n",
       "      <td>5000</td>\n",
       "      <td>1.0</td>\n",
       "      <td>0</td>\n",
       "      <td>0</td>\n",
       "      <td>5</td>\n",
       "      <td>7</td>\n",
       "      <td>1050</td>\n",
       "      <td>910</td>\n",
       "      <td>1965</td>\n",
       "    </tr>\n",
       "    <tr>\n",
       "      <th>4</th>\n",
       "      <td>510000.0</td>\n",
       "      <td>3</td>\n",
       "      <td>2.00</td>\n",
       "      <td>1680</td>\n",
       "      <td>8080</td>\n",
       "      <td>1.0</td>\n",
       "      <td>0</td>\n",
       "      <td>0</td>\n",
       "      <td>3</td>\n",
       "      <td>8</td>\n",
       "      <td>1680</td>\n",
       "      <td>0</td>\n",
       "      <td>1987</td>\n",
       "    </tr>\n",
       "  </tbody>\n",
       "</table>\n",
       "</div>"
      ],
      "text/plain": [
       "      price  bedrooms  bathrooms  sqft_living  sqft_lot  floors  waterfront  \\\n",
       "0  221900.0         3       1.00         1180      5650     1.0           0   \n",
       "1  538000.0         3       2.25         2570      7242     2.0           0   \n",
       "2  180000.0         2       1.00          770     10000     1.0           0   \n",
       "3  604000.0         4       3.00         1960      5000     1.0           0   \n",
       "4  510000.0         3       2.00         1680      8080     1.0           0   \n",
       "\n",
       "   view  condition  grade  sqft_above  sqft_basement  yr_built  \n",
       "0     0          3      7        1180              0      1955  \n",
       "1     0          3      7        2170            400      1951  \n",
       "2     0          3      6         770              0      1933  \n",
       "3     0          5      7        1050            910      1965  \n",
       "4     0          3      8        1680              0      1987  "
      ]
     },
     "execution_count": 65,
     "metadata": {},
     "output_type": "execute_result"
    }
   ],
   "source": [
    "data = pd.read_csv(\"house_data_complete.csv\")\n",
    "data = data.drop(['id', 'date', 'zipcode', 'lat', 'long','sqft_living15', 'sqft_lot15', 'yr_renovated'],axis=1)\n",
    "data.head()"
   ]
  },
  {
   "cell_type": "code",
   "execution_count": 66,
   "metadata": {},
   "outputs": [
    {
     "data": {
      "text/html": [
       "<div>\n",
       "<style scoped>\n",
       "    .dataframe tbody tr th:only-of-type {\n",
       "        vertical-align: middle;\n",
       "    }\n",
       "\n",
       "    .dataframe tbody tr th {\n",
       "        vertical-align: top;\n",
       "    }\n",
       "\n",
       "    .dataframe thead th {\n",
       "        text-align: right;\n",
       "    }\n",
       "</style>\n",
       "<table border=\"1\" class=\"dataframe\">\n",
       "  <thead>\n",
       "    <tr style=\"text-align: right;\">\n",
       "      <th></th>\n",
       "      <th>price</th>\n",
       "      <th>bedrooms</th>\n",
       "      <th>bathrooms</th>\n",
       "      <th>sqft_living</th>\n",
       "      <th>sqft_lot</th>\n",
       "      <th>floors</th>\n",
       "      <th>waterfront</th>\n",
       "      <th>view</th>\n",
       "      <th>condition</th>\n",
       "      <th>grade</th>\n",
       "      <th>sqft_above</th>\n",
       "      <th>sqft_basement</th>\n",
       "      <th>yr_built</th>\n",
       "    </tr>\n",
       "  </thead>\n",
       "  <tbody>\n",
       "    <tr>\n",
       "      <th>count</th>\n",
       "      <td>2.161300e+04</td>\n",
       "      <td>21613.000000</td>\n",
       "      <td>21613.000000</td>\n",
       "      <td>21613.000000</td>\n",
       "      <td>2.161300e+04</td>\n",
       "      <td>21613.000000</td>\n",
       "      <td>21613.000000</td>\n",
       "      <td>21613.000000</td>\n",
       "      <td>21613.000000</td>\n",
       "      <td>21613.000000</td>\n",
       "      <td>21613.000000</td>\n",
       "      <td>21613.000000</td>\n",
       "      <td>21613.000000</td>\n",
       "    </tr>\n",
       "    <tr>\n",
       "      <th>mean</th>\n",
       "      <td>5.400881e+05</td>\n",
       "      <td>3.370842</td>\n",
       "      <td>2.114757</td>\n",
       "      <td>2079.899736</td>\n",
       "      <td>1.510697e+04</td>\n",
       "      <td>1.494309</td>\n",
       "      <td>0.007542</td>\n",
       "      <td>0.234303</td>\n",
       "      <td>3.409430</td>\n",
       "      <td>7.656873</td>\n",
       "      <td>1788.390691</td>\n",
       "      <td>291.509045</td>\n",
       "      <td>1971.005136</td>\n",
       "    </tr>\n",
       "    <tr>\n",
       "      <th>std</th>\n",
       "      <td>3.671272e+05</td>\n",
       "      <td>0.930062</td>\n",
       "      <td>0.770163</td>\n",
       "      <td>918.440897</td>\n",
       "      <td>4.142051e+04</td>\n",
       "      <td>0.539989</td>\n",
       "      <td>0.086517</td>\n",
       "      <td>0.766318</td>\n",
       "      <td>0.650743</td>\n",
       "      <td>1.175459</td>\n",
       "      <td>828.090978</td>\n",
       "      <td>442.575043</td>\n",
       "      <td>29.373411</td>\n",
       "    </tr>\n",
       "    <tr>\n",
       "      <th>min</th>\n",
       "      <td>7.500000e+04</td>\n",
       "      <td>0.000000</td>\n",
       "      <td>0.000000</td>\n",
       "      <td>290.000000</td>\n",
       "      <td>5.200000e+02</td>\n",
       "      <td>1.000000</td>\n",
       "      <td>0.000000</td>\n",
       "      <td>0.000000</td>\n",
       "      <td>1.000000</td>\n",
       "      <td>1.000000</td>\n",
       "      <td>290.000000</td>\n",
       "      <td>0.000000</td>\n",
       "      <td>1900.000000</td>\n",
       "    </tr>\n",
       "    <tr>\n",
       "      <th>25%</th>\n",
       "      <td>3.219500e+05</td>\n",
       "      <td>3.000000</td>\n",
       "      <td>1.750000</td>\n",
       "      <td>1427.000000</td>\n",
       "      <td>5.040000e+03</td>\n",
       "      <td>1.000000</td>\n",
       "      <td>0.000000</td>\n",
       "      <td>0.000000</td>\n",
       "      <td>3.000000</td>\n",
       "      <td>7.000000</td>\n",
       "      <td>1190.000000</td>\n",
       "      <td>0.000000</td>\n",
       "      <td>1951.000000</td>\n",
       "    </tr>\n",
       "    <tr>\n",
       "      <th>50%</th>\n",
       "      <td>4.500000e+05</td>\n",
       "      <td>3.000000</td>\n",
       "      <td>2.250000</td>\n",
       "      <td>1910.000000</td>\n",
       "      <td>7.618000e+03</td>\n",
       "      <td>1.500000</td>\n",
       "      <td>0.000000</td>\n",
       "      <td>0.000000</td>\n",
       "      <td>3.000000</td>\n",
       "      <td>7.000000</td>\n",
       "      <td>1560.000000</td>\n",
       "      <td>0.000000</td>\n",
       "      <td>1975.000000</td>\n",
       "    </tr>\n",
       "    <tr>\n",
       "      <th>75%</th>\n",
       "      <td>6.450000e+05</td>\n",
       "      <td>4.000000</td>\n",
       "      <td>2.500000</td>\n",
       "      <td>2550.000000</td>\n",
       "      <td>1.068800e+04</td>\n",
       "      <td>2.000000</td>\n",
       "      <td>0.000000</td>\n",
       "      <td>0.000000</td>\n",
       "      <td>4.000000</td>\n",
       "      <td>8.000000</td>\n",
       "      <td>2210.000000</td>\n",
       "      <td>560.000000</td>\n",
       "      <td>1997.000000</td>\n",
       "    </tr>\n",
       "    <tr>\n",
       "      <th>max</th>\n",
       "      <td>7.700000e+06</td>\n",
       "      <td>33.000000</td>\n",
       "      <td>8.000000</td>\n",
       "      <td>13540.000000</td>\n",
       "      <td>1.651359e+06</td>\n",
       "      <td>3.500000</td>\n",
       "      <td>1.000000</td>\n",
       "      <td>4.000000</td>\n",
       "      <td>5.000000</td>\n",
       "      <td>13.000000</td>\n",
       "      <td>9410.000000</td>\n",
       "      <td>4820.000000</td>\n",
       "      <td>2015.000000</td>\n",
       "    </tr>\n",
       "  </tbody>\n",
       "</table>\n",
       "</div>"
      ],
      "text/plain": [
       "              price      bedrooms     bathrooms   sqft_living      sqft_lot  \\\n",
       "count  2.161300e+04  21613.000000  21613.000000  21613.000000  2.161300e+04   \n",
       "mean   5.400881e+05      3.370842      2.114757   2079.899736  1.510697e+04   \n",
       "std    3.671272e+05      0.930062      0.770163    918.440897  4.142051e+04   \n",
       "min    7.500000e+04      0.000000      0.000000    290.000000  5.200000e+02   \n",
       "25%    3.219500e+05      3.000000      1.750000   1427.000000  5.040000e+03   \n",
       "50%    4.500000e+05      3.000000      2.250000   1910.000000  7.618000e+03   \n",
       "75%    6.450000e+05      4.000000      2.500000   2550.000000  1.068800e+04   \n",
       "max    7.700000e+06     33.000000      8.000000  13540.000000  1.651359e+06   \n",
       "\n",
       "             floors    waterfront          view     condition         grade  \\\n",
       "count  21613.000000  21613.000000  21613.000000  21613.000000  21613.000000   \n",
       "mean       1.494309      0.007542      0.234303      3.409430      7.656873   \n",
       "std        0.539989      0.086517      0.766318      0.650743      1.175459   \n",
       "min        1.000000      0.000000      0.000000      1.000000      1.000000   \n",
       "25%        1.000000      0.000000      0.000000      3.000000      7.000000   \n",
       "50%        1.500000      0.000000      0.000000      3.000000      7.000000   \n",
       "75%        2.000000      0.000000      0.000000      4.000000      8.000000   \n",
       "max        3.500000      1.000000      4.000000      5.000000     13.000000   \n",
       "\n",
       "         sqft_above  sqft_basement      yr_built  \n",
       "count  21613.000000   21613.000000  21613.000000  \n",
       "mean    1788.390691     291.509045   1971.005136  \n",
       "std      828.090978     442.575043     29.373411  \n",
       "min      290.000000       0.000000   1900.000000  \n",
       "25%     1190.000000       0.000000   1951.000000  \n",
       "50%     1560.000000       0.000000   1975.000000  \n",
       "75%     2210.000000     560.000000   1997.000000  \n",
       "max     9410.000000    4820.000000   2015.000000  "
      ]
     },
     "execution_count": 66,
     "metadata": {},
     "output_type": "execute_result"
    }
   ],
   "source": [
    "data.describe() \n"
   ]
  },
  {
   "cell_type": "code",
   "execution_count": 67,
   "metadata": {},
   "outputs": [
    {
     "data": {
      "text/plain": [
       "Text(0, 0.5, 'Count')"
      ]
     },
     "execution_count": 67,
     "metadata": {},
     "output_type": "execute_result"
    },
    {
     "data": {
      "image/png": "[encoded data removed]",
      "text/plain": [
       "<Figure size 432x288 with 1 Axes>"
      ]
     },
     "metadata": {
      "needs_background": "light"
     },
     "output_type": "display_data"
    }
   ],
   "source": [
    "data['bedrooms'].value_counts().plot(kind='bar')\n",
    "plt.title('No. of bedrooms')\n",
    "plt.xlabel('Bedrooms')\n",
    "plt.ylabel('Count')"
   ]
  },
  {
   "cell_type": "code",
   "execution_count": 68,
   "metadata": {},
   "outputs": [
    {
     "data": {
      "text/plain": [
       "Text(0.5, 1.0, 'Price vs. Square Feet')"
      ]
     },
     "execution_count": 68,
     "metadata": {},
     "output_type": "execute_result"
    },
    {
     "data": {
      "image/png": "[encoded data removed]",
      "text/plain": [
       "<Figure size 432x288 with 1 Axes>"
      ]
     },
     "metadata": {
      "needs_background": "light"
     },
     "output_type": "display_data"
    }
   ],
   "source": [
    "plt.scatter(data.price,data.sqft_living)\n",
    "plt.title('Price vs. Square Feet')"
   ]
  },
  {
   "cell_type": "code",
   "execution_count": 69,
   "metadata": {},
   "outputs": [
    {
     "data": {
      "image/png": "[encoded data removed]",
      "text/plain": [
       "<Figure size 432x288 with 1 Axes>"
      ]
     },
     "metadata": {
      "needs_background": "light"
     },
     "output_type": "display_data"
    }
   ],
   "source": [
    "plt.scatter(data.bedrooms,data.price)\n",
    "plt.title(\"Bedroom and Price \")\n",
    "plt.xlabel(\"Bedrooms\")\n",
    "plt.ylabel(\"Price\")\n",
    "plt.show()"
   ]
  },
  {
   "cell_type": "code",
   "execution_count": 70,
   "metadata": {},
   "outputs": [
    {
     "data": {
      "text/plain": [
       "<matplotlib.collections.PathCollection at 0x7f95b6e90668>"
      ]
     },
     "execution_count": 70,
     "metadata": {},
     "output_type": "execute_result"
    },
    {
     "data": {
      "image/png": "[encoded data removed]",
      "text/plain": [
       "<Figure size 432x288 with 1 Axes>"
      ]
     },
     "metadata": {
      "needs_background": "light"
     },
     "output_type": "display_data"
    }
   ],
   "source": [
    "plt.scatter(data.floors,data.price)\n"
   ]
  },
  {
   "cell_type": "code",
   "execution_count": 71,
   "metadata": {},
   "outputs": [
    {
     "data": {
      "text/plain": [
       "<matplotlib.collections.PathCollection at 0x7f95b6df92b0>"
      ]
     },
     "execution_count": 71,
     "metadata": {},
     "output_type": "execute_result"
    },
    {
     "data": {
      "image/png": "[encoded data removed]",
      "text/plain": [
       "<Figure size 432x288 with 1 Axes>"
      ]
     },
     "metadata": {
      "needs_background": "light"
     },
     "output_type": "display_data"
    }
   ],
   "source": [
    "plt.scatter(data.condition,data.price)\n"
   ]
  },
  {
   "cell_type": "code",
   "execution_count": 72,
   "metadata": {},
   "outputs": [],
   "source": [
    "def  featureNormalize(X):\n",
    "    \"\"\"\n",
    "    Normalizes the features in X. returns a normalized version of X where\n",
    "    the mean value of each feature is 0 and the standard deviation\n",
    "    is 1. This is often a good preprocessing step to do when working with\n",
    "    learning algorithms.\n",
    "    \n",
    "    Parameters\n",
    "    ----------\n",
    "    X : array_like\n",
    "        The dataset of shape (m x n).\n",
    "    \n",
    "    Returns\n",
    "    -------\n",
    "    X_norm : array_like\n",
    "        The normalized dataset of shape (m x n).\n",
    "    \n",
    "    Instructions\n",
    "    ------------\n",
    "    First, for each feature dimension, compute the mean of the feature\n",
    "    and subtract it from the dataset, storing the mean value in mu. \n",
    "    Next, compute the  standard deviation of each feature and divide\n",
    "    each feature by it's standard deviation, storing the standard deviation \n",
    "    in sigma. \n",
    "    \n",
    "    Note that X is a matrix where each column is a feature and each row is\n",
    "    an example. You needto perform the normalization separately for each feature. \n",
    "    \n",
    "    Hint\n",
    "    ----\n",
    "    You might find the 'np.mean' and 'np.std' functions useful.\n",
    "    \"\"\"\n",
    "    # You need to set these values correctly\n",
    "    X_norm = X.copy()\n",
    "    mu = np.zeros(X.shape[1])\n",
    "    sigma = np.zeros(X.shape[1])\n",
    "\n",
    "    \n",
    "    print(mu.shape)\n",
    "    print(sigma.shape)\n",
    "    # =========================== YOUR CODE HERE =====================\n",
    "    mu = np.mean(X_norm, axis = 0)\n",
    "\n",
    "    \n",
    "    sigma = np.std(X_norm , axis = 0)\n",
    "    X_norm = (X_norm - mu) / sigma\n",
    "    \n",
    "    # ================================================================\n",
    "    return X_norm, mu, sigma"
   ]
  },
  {
   "cell_type": "code",
   "execution_count": 73,
   "metadata": {},
   "outputs": [
    {
     "name": "stdout",
     "output_type": "stream",
     "text": [
      "(13,)\n",
      "(13,)\n"
     ]
    }
   ],
   "source": [
    "data_norm, mu, sigma = featureNormalize(data)"
   ]
  },
  {
   "cell_type": "code",
   "execution_count": 74,
   "metadata": {},
   "outputs": [
    {
     "name": "stdout",
     "output_type": "stream",
     "text": [
      "          price  bedrooms  bathrooms  sqft_living  sqft_lot    floors  \\\n",
      "0     -0.866717 -0.398737  -1.447464    -0.979835 -0.228321 -0.915427   \n",
      "1     -0.005688 -0.398737   0.175607     0.533634 -0.189885  0.936506   \n",
      "2     -0.980849 -1.473959  -1.447464    -1.426254 -0.123298 -0.915427   \n",
      "3      0.174090  0.676485   1.149449    -0.130550 -0.244014 -0.915427   \n",
      "4     -0.081958 -0.398737  -0.149007    -0.435422 -0.169653 -0.915427   \n",
      "5      1.865641  0.676485   3.097133     3.636791  2.096185 -0.915427   \n",
      "6     -0.769746 -0.398737   0.175607    -0.397313 -0.200098  0.936506   \n",
      "7     -0.676180 -0.398737  -0.798235    -1.110494 -0.130276 -0.915427   \n",
      "8     -0.846016 -0.398737  -1.447464    -0.326539 -0.184381 -0.915427   \n",
      "9     -0.591330 -0.398737   0.500221    -0.206768 -0.206351  0.936506   \n",
      "10     0.333439 -0.398737   0.500221     1.611573 -0.128224 -0.915427   \n",
      "11    -0.196362 -1.473959  -1.447464    -1.001612 -0.219871 -0.915427   \n",
      "12    -0.626740 -0.398737  -1.447464    -0.707628  0.115743  0.010539   \n",
      "13    -0.381588 -0.398737  -0.473621    -0.772958 -0.131024 -0.915427   \n",
      "14    -0.027479  1.751707  -0.149007    -0.293874 -0.247636  0.010539   \n",
      "15     0.299391  0.676485   1.149449     0.947389 -0.244014  0.936506   \n",
      "16    -0.395208 -0.398737  -0.149007    -0.206768 -0.025760  0.936506   \n",
      "17    -0.150055  0.676485  -1.447464    -0.522528 -0.260915  0.010539   \n",
      "18    -0.956334 -1.473959  -1.447464    -0.958058 -0.126920 -0.915427   \n",
      "19    -0.844654 -0.398737  -1.447464    -0.903617 -0.128755 -0.915427   \n",
      "20    -0.422447  0.676485  -0.473621    -0.500751 -0.244497 -0.915427   \n",
      "21     3.976675 -0.398737   0.824835     1.056271  0.718502 -0.915427   \n",
      "22    -0.694838  1.751707   0.500221     0.206986 -0.212628  0.936506   \n",
      "23    -0.782821 -1.473959  -0.798235    -1.099606 -0.131918 -0.915427   \n",
      "24    -0.574986 -0.398737   0.175607     0.402975 -0.207800  0.936506   \n",
      "25    -0.836482 -0.398737  -0.149007    -0.402757 -0.251330  0.010539   \n",
      "26     1.081154 -0.398737  -0.473621     0.402975 -0.299761  0.936506   \n",
      "27     0.345697 -0.398737  -1.447464    -0.740293 -0.326560  0.010539   \n",
      "28    -0.278079 -0.398737  -0.473621    -0.609634 -0.210697 -0.915427   \n",
      "29     0.487341  0.676485   0.500221     0.533634 -0.191551  0.936506   \n",
      "...         ...       ...        ...          ...       ...       ...   \n",
      "21583 -0.381724 -1.473959  -1.447464    -1.491584 -0.336797  0.936506   \n",
      "21584 -0.436066 -0.398737   0.500221    -0.892729 -0.343001  0.936506   \n",
      "21585 -0.735697 -0.398737   0.500221    -0.228544 -0.244014  0.936506   \n",
      "21586 -0.095577 -1.473959   0.500221    -0.707628 -0.335734  2.788439   \n",
      "21587 -0.422447 -0.398737   0.500221    -0.609634 -0.328805  2.788439   \n",
      "21588 -0.342091 -1.473959  -0.798235    -0.947170 -0.333875  0.936506   \n",
      "21589 -0.524594 -0.398737   0.500221     0.500970 -0.249809  0.936506   \n",
      "21590  1.858832  0.676485   1.798677     3.081489 -0.136722  0.010539   \n",
      "21591  0.086925  0.676485   0.824835     0.751400 -0.271731  0.936506   \n",
      "21592 -0.177295 -0.398737   0.175607    -0.968947 -0.335759  2.788439   \n",
      "21593  1.492465  1.751707   2.123291     2.275757 -0.168157  0.936506   \n",
      "21594 -0.517784  0.676485   0.824835     0.457416 -0.219992  0.936506   \n",
      "21595 -0.054718 -1.473959   0.175607    -0.598746 -0.341046  2.788439   \n",
      "21596  0.380972  1.751707   0.824835     1.655126 -0.136891  0.936506   \n",
      "21597  2.819012  0.676485   1.474063     1.448249 -0.120281  0.936506   \n",
      "21598  0.004663  0.676485   0.500221     1.130311 -0.174820  0.936506   \n",
      "21599  0.735217  0.676485   1.149449     2.079769 -0.175496  0.936506   \n",
      "21600  2.715503  1.751707   2.123291     2.602405 -0.169460  0.936506   \n",
      "21601 -0.199086 -0.398737   0.500221    -0.713072 -0.336266  2.788439   \n",
      "21602 -0.860997 -0.398737  -0.473621    -0.631410 -0.075785 -0.915427   \n",
      "21603 -0.089448 -0.398737   0.500221     0.206986 -0.231074  0.936506   \n",
      "21604 -0.302595 -0.398737  -0.149007    -0.642299 -0.337545  2.788439   \n",
      "21605  0.192300  0.676485   0.500221     0.479193 -0.219316  0.936506   \n",
      "21606  1.273190  0.676485   1.798677     1.557132 -0.190899  0.936506   \n",
      "21607 -0.177295 -0.398737   0.500221    -0.838288 -0.333489  0.936506   \n",
      "21608 -0.490545 -0.398737   0.500221    -0.598746 -0.337424  2.788439   \n",
      "21609 -0.381588  0.676485   0.500221     0.250539 -0.224386  0.936506   \n",
      "21610 -0.375865 -1.473959  -1.772078    -1.154047 -0.332137  0.936506   \n",
      "21611 -0.381588 -0.398737   0.500221    -0.522528 -0.307076  0.936506   \n",
      "21612 -0.585882 -1.473959  -1.772078    -1.154047 -0.338752  0.936506   \n",
      "\n",
      "       waterfront      view  condition     grade  sqft_above  sqft_basement  \\\n",
      "0       -0.087173 -0.305759  -0.629187 -0.558836   -0.734708      -0.658681   \n",
      "1       -0.087173 -0.305759  -0.629187 -0.558836    0.460841       0.245141   \n",
      "2       -0.087173 -0.305759  -0.629187 -1.409587   -1.229834      -0.658681   \n",
      "3       -0.087173 -0.305759   2.444294 -0.558836   -0.891699       1.397515   \n",
      "4       -0.087173 -0.305759  -0.629187  0.291916   -0.130895      -0.658681   \n",
      "5       -0.087173 -0.305759  -0.629187  2.844170    2.537955       2.798440   \n",
      "6       -0.087173 -0.305759  -0.629187 -0.558836   -0.088628      -0.658681   \n",
      "7       -0.087173 -0.305759  -0.629187 -0.558836   -0.879623      -0.658681   \n",
      "8       -0.087173 -0.305759  -0.629187 -0.558836   -0.891699       0.990795   \n",
      "9       -0.087173 -0.305759  -0.629187 -0.558836    0.122706      -0.658681   \n",
      "10      -0.087173 -0.305759  -0.629187  0.291916    0.086477       3.182564   \n",
      "11      -0.087173 -0.305759   0.907554 -0.558836   -1.121148       0.019186   \n",
      "12      -0.087173 -0.305759   0.907554 -0.558836   -0.432801      -0.658681   \n",
      "13      -0.087173 -0.305759   0.907554 -0.558836   -0.505259      -0.658681   \n",
      "14      -0.087173 -0.305759  -0.629187 -0.558836    0.026096      -0.658681   \n",
      "15      -0.087173  3.609157  -0.629187  1.142667    0.231392       1.533088   \n",
      "16      -0.087173 -0.305759  -0.629187 -0.558836    0.122706      -0.658681   \n",
      "17      -0.087173 -0.305759   0.907554 -0.558836   -0.227505      -0.658681   \n",
      "18      -0.087173 -0.305759   0.907554 -0.558836   -0.710555      -0.658681   \n",
      "19      -0.087173 -0.305759   0.907554 -0.558836   -0.650174      -0.658681   \n",
      "20      -0.087173 -0.305759   0.907554 -0.558836   -1.121148       1.058582   \n",
      "21      -0.087173  4.914129  -0.629187  1.142667    0.654061       0.968199   \n",
      "22      -0.087173 -0.305759  -0.629187  0.291916    0.581603      -0.658681   \n",
      "23      -0.087173 -0.305759  -0.629187 -0.558836   -0.867546      -0.658681   \n",
      "24      -0.087173 -0.305759   0.907554  0.291916    0.798976      -0.658681   \n",
      "25      -0.087173 -0.305759   2.444294 -1.409587   -0.094667      -0.658681   \n",
      "26      -0.087173 -0.305759  -0.629187  0.291916   -0.046362       0.923008   \n",
      "27      -0.087173 -0.305759   2.444294  0.291916   -0.469030      -0.658681   \n",
      "28      -0.087173 -0.305759  -0.629187 -0.558836   -1.205681       0.990795   \n",
      "29      -0.087173 -0.305759  -0.629187  0.291916    0.943891      -0.658681   \n",
      "...           ...       ...        ...       ...         ...            ...   \n",
      "21583   -0.087173 -0.305759   0.907554 -0.558836   -1.302291      -0.658681   \n",
      "21584   -0.087173 -0.305759  -0.629187 -0.558836   -1.024538       0.064377   \n",
      "21585   -0.087173 -0.305759  -0.629187 -0.558836    0.098553      -0.658681   \n",
      "21586   -0.087173 -0.305759  -0.629187  0.291916   -0.432801      -0.658681   \n",
      "21587   -0.087173 -0.305759  -0.629187  0.291916   -0.324115      -0.658681   \n",
      "21588   -0.087173 -0.305759  -0.629187  0.291916   -0.927928      -0.229365   \n",
      "21589   -0.087173 -0.305759  -0.629187  0.291916    0.907662      -0.658681   \n",
      "21590   -0.087173 -0.305759  -0.629187  2.844170    1.596008       3.408520   \n",
      "21591   -0.087173 -0.305759  -0.629187  0.291916    1.185416      -0.658681   \n",
      "21592   -0.087173 -0.305759  -0.629187  0.291916   -0.722631      -0.658681   \n",
      "21593   -0.087173  2.304185  -0.629187  1.993418    2.876090      -0.658681   \n",
      "21594   -0.087173 -0.305759  -0.629187  0.291916    0.859357      -0.658681   \n",
      "21595   -0.087173 -0.305759  -0.629187  0.291916   -0.372420      -0.545703   \n",
      "21596   -0.087173 -0.305759  -0.629187  1.142667    2.187744      -0.658681   \n",
      "21597   -0.087173 -0.305759  -0.629187  1.993418    1.958295      -0.658681   \n",
      "21598   -0.087173  2.304185  -0.629187  1.142667    1.605669      -0.658681   \n",
      "21599   -0.087173 -0.305759  -0.629187  1.142667    2.658718      -0.658681   \n",
      "21600   -0.087173 -0.305759  -0.629187  2.844170    3.238378      -0.658681   \n",
      "21601   -0.087173 -0.305759  -0.629187  0.291916   -0.438840      -0.658681   \n",
      "21602   -0.087173 -0.305759  -0.629187 -1.409587   -0.348268      -0.658681   \n",
      "21603   -0.087173 -0.305759  -0.629187  0.291916    0.581603      -0.658681   \n",
      "21604   -0.087173 -0.305759  -0.629187  0.291916   -0.360344      -0.658681   \n",
      "21605   -0.087173 -0.305759  -0.629187  1.142667    0.883509      -0.658681   \n",
      "21606   -0.087173 -0.305759  -0.629187  1.142667    0.980119       1.397515   \n",
      "21607   -0.087173 -0.305759  -0.629187  0.291916   -0.734708      -0.364939   \n",
      "21608   -0.087173 -0.305759  -0.629187  0.291916   -0.312039      -0.658681   \n",
      "21609   -0.087173 -0.305759  -0.629187  0.291916    0.629908      -0.658681   \n",
      "21610   -0.087173 -0.305759  -0.629187 -0.558836   -0.927928      -0.658681   \n",
      "21611   -0.087173 -0.305759  -0.629187  0.291916   -0.227505      -0.658681   \n",
      "21612   -0.087173 -0.305759  -0.629187 -0.558836   -0.927928      -0.658681   \n",
      "\n",
      "       yr_built  \n",
      "0     -0.544898  \n",
      "1     -0.681079  \n",
      "2     -1.293892  \n",
      "3     -0.204446  \n",
      "4      0.544548  \n",
      "5      1.021181  \n",
      "6      0.816910  \n",
      "7     -0.272536  \n",
      "8     -0.374672  \n",
      "9      1.089271  \n",
      "10    -0.204446  \n",
      "11    -0.987485  \n",
      "12    -1.498163  \n",
      "13     0.204096  \n",
      "14    -2.417383  \n",
      "15     0.272187  \n",
      "16     0.782864  \n",
      "17    -1.872660  \n",
      "18    -1.702434  \n",
      "19    -0.068265  \n",
      "20    -0.817259  \n",
      "21    -0.102310  \n",
      "22     0.816910  \n",
      "23     0.476458  \n",
      "24     0.476458  \n",
      "25    -1.021530  \n",
      "26    -1.906705  \n",
      "27    -2.110976  \n",
      "28    -0.783214  \n",
      "29     1.157361  \n",
      "...         ...  \n",
      "21583 -0.953440  \n",
      "21584  1.225452  \n",
      "21585  1.293542  \n",
      "21586  1.293542  \n",
      "21587  1.191407  \n",
      "21588  1.225452  \n",
      "21589  1.327587  \n",
      "21590  1.225452  \n",
      "21591  1.463768  \n",
      "21592  1.259497  \n",
      "21593  1.191407  \n",
      "21594  1.259497  \n",
      "21595  1.191407  \n",
      "21596  1.463768  \n",
      "21597  1.225452  \n",
      "21598  1.463768  \n",
      "21599  1.089271  \n",
      "21600  1.259497  \n",
      "21601  1.259497  \n",
      "21602  1.463768  \n",
      "21603  1.089271  \n",
      "21604  1.463768  \n",
      "21605  1.463768  \n",
      "21606  1.293542  \n",
      "21607  1.259497  \n",
      "21608  1.293542  \n",
      "21609  1.463768  \n",
      "21610  1.293542  \n",
      "21611  1.123316  \n",
      "21612  1.259497  \n",
      "\n",
      "[21613 rows x 13 columns]\n"
     ]
    }
   ],
   "source": [
    "print(data_norm)"
   ]
  },
  {
   "cell_type": "code",
   "execution_count": 75,
   "metadata": {},
   "outputs": [],
   "source": [
    "train, validate, test = np.split(data_norm.sample(frac=1), [int(.6*len(data_norm)), int(.8*len(data_norm))])"
   ]
  },
  {
   "cell_type": "code",
   "execution_count": 76,
   "metadata": {},
   "outputs": [
    {
     "name": "stdout",
     "output_type": "stream",
     "text": [
      "[[ 1.          1.75170727 -0.47362141 ...  0.1710109  -0.65868104\n",
      "  -0.17040076]\n",
      " [ 1.          0.67648506  1.47406291 ...  3.67312259 -0.65868104\n",
      "   0.64668362]\n",
      " [ 1.         -0.39873715 -0.47362141 ...  0.01401969  0.8778171\n",
      "   0.17005106]\n",
      " ...\n",
      " [ 1.          0.67648506 -0.14900736 ...  0.23139214 -0.65868104\n",
      "   0.20409625]\n",
      " [ 1.         -0.39873715  0.1756067  ... -0.28547124 -0.65868104\n",
      "   1.39567764]\n",
      " [ 1.         -0.39873715 -1.44746357 ... -0.10674278 -0.65868104\n",
      "  -0.54489777]]\n"
     ]
    }
   ],
   "source": [
    "y_validate = validate.price\n",
    "validate = validate.drop(['price'],axis=1)\n",
    "m = validate.shape[0]\n",
    "validate = np.concatenate([np.ones((m, 1)), validate], axis=1)\n",
    "validate.shape\n",
    "print(validate)"
   ]
  },
  {
   "cell_type": "code",
   "execution_count": 77,
   "metadata": {},
   "outputs": [
    {
     "name": "stdout",
     "output_type": "stream",
     "text": [
      "[[ 1.         -0.39873715 -1.44746357 ... -1.12114755 -0.65868104\n",
      "  -0.27253631]\n",
      " [ 1.         -0.39873715 -0.47362141 ... -0.50525894 -0.65868104\n",
      "  -0.8853496 ]\n",
      " [ 1.         -1.47395936  0.50022075 ... -0.63809766 -0.65868104\n",
      "   1.19140654]\n",
      " ...\n",
      " [ 1.         -0.39873715  0.50022075 ...  0.27969713 -0.65868104\n",
      "   1.08927099]\n",
      " [ 1.         -1.47395936 -1.44746357 ... -1.24191002 -0.38753431\n",
      "  -1.80456953]\n",
      " [ 1.          0.67648506  0.50022075 ...  0.54537457 -0.65868104\n",
      "   0.6807288 ]]\n"
     ]
    }
   ],
   "source": [
    "y_train = train.price\n",
    "train = train.drop(['price'],axis=1)\n",
    "m = train.shape[0]\n",
    "train = np.concatenate([np.ones((m, 1)), train], axis=1)\n",
    "train.shape\n",
    "print(train)"
   ]
  },
  {
   "cell_type": "code",
   "execution_count": 78,
   "metadata": {},
   "outputs": [
    {
     "name": "stdout",
     "output_type": "stream",
     "text": [
      "[[ 1.          1.75170727 -0.47362141 ... -0.4690302  -0.65868104\n",
      "  -1.87265989]\n",
      " [ 1.          0.67648506  0.1756067  ...  0.07440092  1.2845372\n",
      "  -0.30658149]\n",
      " [ 1.          1.75170727  0.50022075 ... -0.14297152  0.85522154\n",
      "  -0.13635558]\n",
      " ...\n",
      " [ 1.         -0.39873715  0.1756067  ... -0.80716512  1.78163954\n",
      "  -0.23849113]\n",
      " [ 1.          1.75170727  0.1756067  ... -0.89169885  1.71385286\n",
      "  -0.27253631]\n",
      " [ 1.          0.67648506  0.50022075 ...  0.94389072 -0.65868104\n",
      "   1.19140654]]\n"
     ]
    }
   ],
   "source": [
    "y_test = test.price\n",
    "test = test.drop(['price'],axis=1)\n",
    "m = test.shape[0]\n",
    "test = np.concatenate([np.ones((m, 1)), test], axis=1)\n",
    "print(test)"
   ]
  },
  {
   "cell_type": "code",
   "execution_count": 79,
   "metadata": {},
   "outputs": [],
   "source": [
    "def computeCostMulti(X, y, theta):\n",
    "    \"\"\"\n",
    "    Compute cost for linear regression with multiple variables.\n",
    "    Computes the cost of using theta as the parameter for linear regression to fit the data points in X and y.\n",
    "    \n",
    "    Parameters\n",
    "    ----------\n",
    "    X : array_like\n",
    "        The dataset of shape (m x n+1).\n",
    "    \n",
    "    y : array_like\n",
    "        A vector of shape (m, ) for the values at a given data point.\n",
    "    \n",
    "    theta : array_like\n",
    "        The linear regression parameters. A vector of shape (n+1, )\n",
    "    \n",
    "    Returns\n",
    "    -------\n",
    "    J : float\n",
    "        The value of the cost function. \n",
    "    \n",
    "    Instructions\n",
    "    ------------\n",
    "    Compute the cost of a particular choice of theta. You should set J to the cost.\n",
    "    \"\"\"\n",
    "    # Initialize some useful values\n",
    "    m = y.shape[0] # number of training examples\n",
    "    \n",
    "    # You need to return the following variable correctly\n",
    "    J = 0\n",
    "    \n",
    "    # ======================= YOUR CODE HERE ===========================\n",
    "    \n",
    "    h = X.dot(theta)\n",
    "    \n",
    "    J = 1/(2*m)*np.sum(np.square(h-y))\n",
    "    \n",
    "    # ==================================================================\n",
    "    return J"
   ]
  },
  {
   "cell_type": "code",
   "execution_count": 80,
   "metadata": {},
   "outputs": [],
   "source": [
    "def gradientDescentMulti(X, y, theta, alpha, num_iters):\n",
    "    \"\"\"\n",
    "    Performs gradient descent to learn theta.\n",
    "    Updates theta by taking num_iters gradient steps with learning rate alpha.\n",
    "        \n",
    "    Parameters\n",
    "    ----------\n",
    "    X : array_like\n",
    "        The dataset of shape (m x n+1).\n",
    "    \n",
    "    y : array_like\n",
    "        A vector of shape (m, ) for the values at a given data point.\n",
    "    \n",
    "    theta : array_like\n",
    "        The linear regression parameters. A vector of shape (n+1, )\n",
    "    \n",
    "    alpha : float\n",
    "        The learning rate for gradient descent. \n",
    "    \n",
    "    num_iters : int\n",
    "        The number of iterations to run gradient descent. \n",
    "    \n",
    "    Returns\n",
    "    -------\n",
    "    theta : array_like\n",
    "        The learned linear regression parameters. A vector of shape (n+1, ).\n",
    "    \n",
    "    J_history : list\n",
    "        A python list for the values of the cost function after each iteration.\n",
    "    \n",
    "    Instructions\n",
    "    ------------\n",
    "    Peform a single gradient step on the parameter vector theta.\n",
    "\n",
    "    While debugging, it can be useful to print out the values of \n",
    "    the cost function (computeCost) and gradient here.\n",
    "    \"\"\"\n",
    "    # Initialize some useful values\n",
    "    m = y.shape[0] # number of training examples\n",
    "    \n",
    "    # make a copy of theta, which will be updated by gradient descent\n",
    "    theta = theta.copy()\n",
    "    \n",
    "    J_history = []\n",
    "    \n",
    "    for i in range(num_iters):\n",
    "        # ======================= YOUR CODE HERE ==========================\n",
    "        ht = np.dot(X, theta)\n",
    "        ht_minus_y = ht - y \n",
    "        s = np.dot(ht_minus_y , X)\n",
    "        \n",
    "        theta = theta - alpha * (1/m) * s\n",
    "        \n",
    "        # =================================================================\n",
    "        \n",
    "        # save the cost J in every iteration\n",
    "        J_history.append(computeCostMulti(X, y, theta))\n",
    "\n",
    "    return theta, J_history"
   ]
  },
  {
   "cell_type": "code",
   "execution_count": 81,
   "metadata": {},
   "outputs": [
    {
     "name": "stdout",
     "output_type": "stream",
     "text": [
      "13\n",
      "[-0.00236732 -0.10134399  0.09290166  0.21006501 -0.02714816  0.03678219\n",
      "  0.12406029  0.09299068  0.03236413  0.40464668  0.18018176  0.09879774\n",
      " -0.28261905]\n"
     ]
    },
    {
     "data": {
      "image/png": "[encoded data removed]",
      "text/plain": [
       "<Figure size 432x288 with 1 Axes>"
      ]
     },
     "metadata": {
      "needs_background": "light"
     },
     "output_type": "display_data"
    }
   ],
   "source": [
    "alpha = 0.1\n",
    "num_iters = 400\n",
    "\n",
    "# init theta and run gradient descent\n",
    "m = validate.shape[1]\n",
    "theta = np.zeros(m)\n",
    "print(m)\n",
    "theta, J_history = gradientDescentMulti(train, y_train, theta, alpha, num_iters)\n",
    "plt.plot(np.arange(len(J_history)), J_history, lw=2)\n",
    "plt.xlabel('Number of iterations (i)')\n",
    "plt.ylabel('Cost (J) for Hyp1')\n",
    "\n",
    "print(str(theta))\n"
   ]
  },
  {
   "cell_type": "code",
   "execution_count": 82,
   "metadata": {},
   "outputs": [
    {
     "name": "stdout",
     "output_type": "stream",
     "text": [
      "[-1.32825962 -0.77295791 -0.89272887 ... -0.06522044 -1.30648308\n",
      "  0.17432147]\n"
     ]
    }
   ],
   "source": [
    "train_new = np.zeros((train.shape[0],3))\n",
    "    \n",
    "# X = 1 + (x1) + (x1)^2 \n",
    "train_new[:,0] = 1\n",
    "train_new[:,1] = train[:,3]\n",
    "train_new[:,2] = train[:,3] * train[:,3] \n",
    "print(train[:,3])"
   ]
  },
  {
   "cell_type": "code",
   "execution_count": 83,
   "metadata": {},
   "outputs": [
    {
     "name": "stdout",
     "output_type": "stream",
     "text": [
      "3\n",
      "[-0.06874344  0.59095044  0.06513723]\n"
     ]
    },
    {
     "data": {
      "image/png": "[encoded data removed]",
      "text/plain": [
       "<Figure size 432x288 with 1 Axes>"
      ]
     },
     "metadata": {
      "needs_background": "light"
     },
     "output_type": "display_data"
    }
   ],
   "source": [
    "#####HYPOTHESIS 2#####\n",
    "\n",
    "# init theta and run gradient descent\n",
    "m = train_new.shape[1]\n",
    "theta_1 = np.zeros(m)\n",
    "print(m)\n",
    "theta_1, J_history_1 = gradientDescentMulti(train_new, y_train, theta_1, alpha, num_iters)\n",
    "plt.plot(np.arange(len(J_history_1)), J_history_1, lw=2)\n",
    "plt.xlabel('Number of iterations (i)')\n",
    "plt.ylabel('Cost (J) for Hyp2')\n",
    "\n",
    "print(str(theta_1))"
   ]
  },
  {
   "cell_type": "code",
   "execution_count": 84,
   "metadata": {},
   "outputs": [],
   "source": [
    "train_third = np.zeros((train.shape[0],5))\n",
    "    \n",
    "# X = 1 + (x1) + (x1)^2 + (x2) + (x2)^2\n",
    "train_third[:,0] = 1\n",
    "train_third[:,1] = train[:,3]\n",
    "train_third[:,2] = train[:,3] * train[:,3] \n",
    "train_third[:,3] = train[:,1]\n",
    "train_third[:,4] = train[:,1] * train[:,1] "
   ]
  },
  {
   "cell_type": "code",
   "execution_count": 86,
   "metadata": {},
   "outputs": [
    {
     "name": "stdout",
     "output_type": "stream",
     "text": [
      "5\n",
      "[-0.08114922  0.48742991  0.08802619  0.03193506 -0.0132623 ]\n"
     ]
    },
    {
     "data": {
      "image/png": "[encoded data removed]",
      "text/plain": [
       "<Figure size 432x288 with 1 Axes>"
      ]
     },
     "metadata": {
      "needs_background": "light"
     },
     "output_type": "display_data"
    }
   ],
   "source": [
    "#####HYPOTHESIS 3#####\n",
    "# init theta and run gradient descent\n",
    "m = train_third.shape[1]\n",
    "theta_2 = np.zeros(m)\n",
    "print(m)\n",
    "theta_2, J_history_2 = gradientDescentMulti(train_third, y_train, theta_2, alpha, num_iters)\n",
    "plt.plot(np.arange(len(J_history_2)), J_history_2, lw=2)\n",
    "plt.xlabel('Number of iterations (i)')\n",
    "plt.ylabel('Cost (J) for Hyp3')\n",
    "\n",
    "print(str(theta_2))"
   ]
  },
  {
   "cell_type": "code",
   "execution_count": null,
   "metadata": {},
   "outputs": [],
   "source": []
  },
  {
   "cell_type": "code",
   "execution_count": null,
   "metadata": {},
   "outputs": [],
   "source": []
  }
 ],
 "metadata": {
  "kernelspec": {
   "display_name": "Python 3",
   "language": "python",
   "name": "python3"
  },
  "language_info": {
   "codemirror_mode": {
    "name": "ipython",
    "version": 3
   },
   "file_extension": ".py",
   "mimetype": "text/x-python",
   "name": "python",
   "nbconvert_exporter": "python",
   "pygments_lexer": "ipython3",
   "version": "3.6.7"
  }
 },
 "nbformat": 4,
 "nbformat_minor": 4
}
